{
  "cells": [
    {
      "cell_type": "markdown",
      "id": "05a33c4c",
      "metadata": {
        "id": "05a33c4c",
        "vscode": {
          "languageId": "plaintext"
        }
      },
      "source": [
        "# Welcome to day 2!\n",
        "Today you will practice what you have learned yesterday and today."
      ]
    },
    {
      "cell_type": "code",
      "execution_count": null,
      "id": "c3347c83",
      "metadata": {
        "id": "c3347c83",
        "vscode": {
          "languageId": "plaintext"
        }
      },
      "outputs": [],
      "source": [
        "# Let's clone the repository\n",
        "! git clone https://github.com/likeajumprope/RSE_Juelich.git"
      ]
    },
    {
      "cell_type": "code",
      "execution_count": 1,
      "id": "c2113d5e",
      "metadata": {
        "colab": {
          "base_uri": "https://localhost:8080/"
        },
        "id": "c2113d5e",
        "outputId": "fcb55ebb-e8fc-4692-d138-15a2bfc5446a",
        "vscode": {
          "languageId": "plaintext"
        }
      },
      "outputs": [
        {
          "name": "stdout",
          "output_type": "stream",
          "text": [
            "/content/RSE_Juelich/day2\n"
          ]
        }
      ],
      "source": [
        "# Let's move into day 2\n",
        "%cd  /content/RSE_Juelich/day2"
      ]
    },
    {
      "cell_type": "code",
      "execution_count": null,
      "id": "ba62ba06",
      "metadata": {
        "id": "ba62ba06",
        "vscode": {
          "languageId": "plaintext"
        }
      },
      "outputs": [],
      "source": [
        "# You can delete the repository again via:\n",
        "#! rm -r /content/RSE_Juelich/day2/RSE_Juelich/"
      ]
    },
    {
      "cell_type": "markdown",
      "id": "519a0f0c",
      "metadata": {
        "id": "519a0f0c",
        "vscode": {
          "languageId": "bat"
        }
      },
      "source": [
        " Let's install the requirements\n"
      ]
    },
    {
      "cell_type": "code",
      "execution_count": 2,
      "id": "fd60cf37",
      "metadata": {
        "colab": {
          "base_uri": "https://localhost:8080/"
        },
        "id": "fd60cf37",
        "outputId": "59f17e80-0443-4a24-c228-feefbb8848cf"
      },
      "outputs": [
        {
          "name": "stdout",
          "output_type": "stream",
          "text": [
            "Requirement already satisfied: contourpy==1.3.2 in /usr/local/lib/python3.11/dist-packages (from -r requirements.txt (line 1)) (1.3.2)\n",
            "Requirement already satisfied: coverage==7.7.1 in /usr/local/lib/python3.11/dist-packages (from -r requirements.txt (line 2)) (7.7.1)\n",
            "Requirement already satisfied: cycler==0.12.1 in /usr/local/lib/python3.11/dist-packages (from -r requirements.txt (line 3)) (0.12.1)\n",
            "Requirement already satisfied: fonttools==4.57.0 in /usr/local/lib/python3.11/dist-packages (from -r requirements.txt (line 4)) (4.57.0)\n",
            "Requirement already satisfied: iniconfig==2.1.0 in /usr/local/lib/python3.11/dist-packages (from -r requirements.txt (line 5)) (2.1.0)\n",
            "Requirement already satisfied: kiwisolver==1.4.8 in /usr/local/lib/python3.11/dist-packages (from -r requirements.txt (line 6)) (1.4.8)\n",
            "Requirement already satisfied: matplotlib==3.10.1 in /usr/local/lib/python3.11/dist-packages (from -r requirements.txt (line 7)) (3.10.1)\n",
            "Requirement already satisfied: numpy==2.2.4 in /usr/local/lib/python3.11/dist-packages (from -r requirements.txt (line 8)) (2.2.4)\n",
            "Requirement already satisfied: packaging==24.2 in /usr/local/lib/python3.11/dist-packages (from -r requirements.txt (line 9)) (24.2)\n",
            "Requirement already satisfied: pandas==2.2.3 in /usr/local/lib/python3.11/dist-packages (from -r requirements.txt (line 10)) (2.2.3)\n",
            "Requirement already satisfied: pillow==11.2.1 in /usr/local/lib/python3.11/dist-packages (from -r requirements.txt (line 11)) (11.2.1)\n",
            "Requirement already satisfied: pluggy==1.5.0 in /usr/local/lib/python3.11/dist-packages (from -r requirements.txt (line 12)) (1.5.0)\n",
            "Requirement already satisfied: pyparsing==3.2.3 in /usr/local/lib/python3.11/dist-packages (from -r requirements.txt (line 13)) (3.2.3)\n",
            "Requirement already satisfied: pytest==8.3.5 in /usr/local/lib/python3.11/dist-packages (from -r requirements.txt (line 14)) (8.3.5)\n",
            "Requirement already satisfied: pytest-cov==6.0.0 in /usr/local/lib/python3.11/dist-packages (from -r requirements.txt (line 15)) (6.0.0)\n",
            "Requirement already satisfied: python-dateutil==2.9.0.post0 in /usr/local/lib/python3.11/dist-packages (from -r requirements.txt (line 16)) (2.9.0.post0)\n",
            "Requirement already satisfied: pytz==2025.2 in /usr/local/lib/python3.11/dist-packages (from -r requirements.txt (line 17)) (2025.2)\n",
            "Requirement already satisfied: setuptools==75.8.0 in /usr/local/lib/python3.11/dist-packages (from -r requirements.txt (line 18)) (75.8.0)\n",
            "Requirement already satisfied: six==1.17.0 in /usr/local/lib/python3.11/dist-packages (from -r requirements.txt (line 19)) (1.17.0)\n",
            "Requirement already satisfied: tzdata==2025.2 in /usr/local/lib/python3.11/dist-packages (from -r requirements.txt (line 20)) (2025.2)\n",
            "Requirement already satisfied: wheel==0.45.1 in /usr/local/lib/python3.11/dist-packages (from -r requirements.txt (line 21)) (0.45.1)\n"
          ]
        }
      ],
      "source": [
        "!pip install -r requirements.txt"
      ]
    },
    {
      "cell_type": "markdown",
      "id": "26155bda",
      "metadata": {},
      "source": [
        "## Calibrate notebook"
      ]
    },
    {
      "cell_type": "code",
      "execution_count": null,
      "id": "5a2a3174",
      "metadata": {},
      "outputs": [],
      "source": [
        "# These are some parameters for the notebook\n",
        "import sys\n",
        "sys.path.append('/content/RSE_Juelich/day2')\n",
        "%load_ext autoreload\n",
        "%autoreload 2\n",
        "%matplotlib inline"
      ]
    },
    {
      "cell_type": "markdown",
      "id": "74175a83",
      "metadata": {},
      "source": [
        "## Steps 2 - 5. Git commands.\n",
        "\n",
        "Check the status of you repository and practice git commands.\n",
        "\n",
        "Most likely you will need to run this command in the terminal before you can use git:\n",
        "\n",
        "`git config --global user.name \"Your Name\"`\n",
        "\n",
        "`git config --global user.email \"Your Email\"`"
      ]
    },
    {
      "cell_type": "code",
      "execution_count": null,
      "id": "c5d8b138",
      "metadata": {
        "id": "c5d8b138"
      },
      "outputs": [],
      "source": [
        "# TODO Practice git commands. add more cells if you need more space\n",
        "\n",
        "! git config --global user.name \"Johanna\"\n",
        "\n",
        "! git config --global user.email \"JaneDoe@gmail.com\"\n",
        "\n",
        "! git init\n",
        "\n",
        "! git status\n",
        "! git add .\n",
        "! git commit -m \"first commit\"\n"
      ]
    },
    {
      "cell_type": "markdown",
      "id": "1c9dd6e9",
      "metadata": {},
      "source": [
        "## Step 6: Good coding practices\n",
        "\n",
        "## Step 6.1: Modular functions\n",
        "\n",
        "Practice writing functions and code comments. See also instructions in the Readme.md."
      ]
    },
    {
      "cell_type": "code",
      "execution_count": null,
      "id": "5d054484",
      "metadata": {
        "id": "5d054484"
      },
      "outputs": [],
      "source": [
        "# TODO Write function (in the Jupyter book) that cleans the data (and removes all NaN values). The function should take two arguments:\n",
        "# input_path: path to the input file. output_path: path to the output file.\n",
        "# The function should read the input file, clean the data, and write the cleaned data to the output file.\n",
        "# def clean_data(input_path, output_path):\n",
        "\n",
        "def clean_data(input_path, output_path):\n",
        "    \"\"\"\n",
        "    Clean a dataset by removing rows with missing values and save the cleaned data.\n",
        "\n",
        "    Parameters\n",
        "    ----------\n",
        "    input_path : str\n",
        "        Path to the input CSV file containing raw data.\n",
        "\n",
        "    output_path : str\n",
        "        Path to save the cleaned CSV file (with no missing values).\n",
        "\n",
        "    This function reads a CSV file, removes all rows that contain any NaN (missing) values,\n",
        "    and writes the cleaned DataFrame to a new CSV file at the specified output path.\n",
        "    \"\"\"\n",
        "    \n",
        "    # Import pandas for data handling\n",
        "    import pandas as pd\n",
        "\n",
        "    # Read the raw dataset from the input CSV file\n",
        "    df = pd.read_csv(input_path)\n",
        "\n",
        "    # Drop all rows that contain any missing values (NaN)\n",
        "    df = df.dropna()\n",
        "\n",
        "    # Write the cleaned dataset to the output CSV file, without row indices\n",
        "    df.to_csv(output_path, index=False)"
      ]
    },
    {
      "cell_type": "code",
      "execution_count": null,
      "id": "789f5ada",
      "metadata": {},
      "outputs": [],
      "source": [
        "# TODO: Run the function on the data (in the Jupyter book).\n",
        "clean_data('data/raw/students_habits_performance.csv', 'data/clean/data_cleaned.csv')"
      ]
    },
    {
      "cell_type": "code",
      "execution_count": null,
      "id": "3205b9ac",
      "metadata": {
        "id": "3205b9ac"
      },
      "outputs": [],
      "source": [
        "\n",
        "#TODO: Write a function that plots the data (in the Jupyter notebook). The function should take one argument:\n",
        "# data: the data to be plotted. The function should plot the data and save the plot to the results directory.\n",
        "# def plot_data(path_to_data):\n",
        "# Import required libraries\n",
        "import pandas as pd                  # For reading and handling data\n",
        "import matplotlib.pyplot as plt      # For plotting\n",
        "\n",
        "def plot_data(path_to_data):\n",
        "    \"\"\"\n",
        "    Generate and save a scatter plot from a CSV file containing study data.\n",
        "\n",
        "    Parameters\n",
        "    ----------\n",
        "    path_to_data : str\n",
        "        Path to the CSV file containing at least two columns:\n",
        "        'study_hours_per_day' and 'exam_score'.\n",
        "\n",
        "    The function creates a scatter plot of study hours per day vs exam score,\n",
        "    and saves it as 'results/plot.png'. It assumes the 'results/' directory exists.\n",
        "    \"\"\"\n",
        "# Read the CSV file into a pandas DataFrame\n",
        "    df = pd.read_csv(path_to_data)\n",
        "\n",
        "    # Create a scatter plot with 'study_hours_per_day' on x-axis and 'exam_score' on y-axis\n",
        "    df.plot(x=\"study_hours_per_day\", y=\"exam_score\", kind=\"scatter\")\n",
        "\n",
        "    # Label the x-axis\n",
        "    plt.xlabel(\"study_hours_per_day\")\n",
        "\n",
        "    # Label the y-axis\n",
        "    plt.ylabel(\"exam_score\")\n",
        "\n",
        "    # Add a plot title\n",
        "    plt.title(\"study_hours_per_day vs exam_score\")\n",
        "\n",
        "    # Save the plot as a PNG image in the 'results' folder\n",
        "    plt.savefig('results/plot.png')\n",
        "    plt.close()"
      ]
    },
    {
      "cell_type": "code",
      "execution_count": null,
      "id": "20c8956d",
      "metadata": {},
      "outputs": [],
      "source": [
        "# TODO Run the function\n",
        "plot_data('data/clean/data_cleaned.csv')"
      ]
    },
    {
      "cell_type": "markdown",
      "id": "f8d3fffd",
      "metadata": {},
      "source": [
        "## Step 6.2: Packaging, importing and executing from the command line"
      ]
    },
    {
      "cell_type": "code",
      "execution_count": null,
      "id": "6eb395c2",
      "metadata": {
        "id": "6eb395c2"
      },
      "outputs": [],
      "source": [
        "# TODO: Execute the functions from a file\n",
        "! python src/clean_data.py student_habits_performance.csv data_cleaned.csv\n",
        "! python src/plot_data.py data_cleaned.csv"
      ]
    },
    {
      "cell_type": "code",
      "execution_count": null,
      "id": "b0596b56",
      "metadata": {},
      "outputs": [],
      "source": [
        "# if you wnat to import the functions from a file, you can do it like this:\n",
        "from src.clean_data import clean_data\n",
        "from src.plot_data import plot_data"
      ]
    },
    {
      "cell_type": "markdown",
      "id": "204f5e31",
      "metadata": {},
      "source": [
        "## Step 8: Document your environment"
      ]
    },
    {
      "cell_type": "code",
      "execution_count": null,
      "id": "154abaf6",
      "metadata": {},
      "outputs": [],
      "source": [
        "## TODO: export your environment with pip freeze > requirements.txt\n",
        "! pip freeze > requirements.txt"
      ]
    },
    {
      "cell_type": "markdown",
      "id": "4ba94d71",
      "metadata": {},
      "source": [
        "## Step 9: Create a makefile\n",
        "\n",
        "Add the commands you have just created to the Makefile. Run the functions from the makefile below"
      ]
    },
    {
      "cell_type": "code",
      "execution_count": null,
      "id": "53521b3a",
      "metadata": {},
      "outputs": [],
      "source": [
        "# ! touch Makefile"
      ]
    },
    {
      "cell_type": "code",
      "execution_count": null,
      "id": "90ce88ad",
      "metadata": {},
      "outputs": [],
      "source": [
        "make clean\n",
        "make all"
      ]
    },
    {
      "cell_type": "markdown",
      "id": "315b0ef3",
      "metadata": {
        "id": "315b0ef3"
      },
      "source": []
    }
  ],
  "metadata": {
    "colab": {
      "provenance": []
    },
    "kernelspec": {
      "display_name": "Python 3",
      "name": "python3"
    },
    "language_info": {
      "name": "python"
    }
  },
  "nbformat": 4,
  "nbformat_minor": 5
}
