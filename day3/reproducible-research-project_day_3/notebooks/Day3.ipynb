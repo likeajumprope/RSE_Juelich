{
 "cells": [
  {
   "cell_type": "markdown",
   "id": "57a6d5ad",
   "metadata": {},
   "source": [
    "# 🧪 Day 3: Testing Exercise\n",
    "\n",
    "Welcome to **Day 3** of the Research Software Engineering course!  \n",
    "In this notebook, you'll practice writing and running **unit tests** for Python code.\n",
    "\n",
    "---\n",
    "\n",
    "### 🗒️ Learning Objectives\n",
    "By the end of this session, you should be able to:\n",
    "- ✅ Clone a GitHub repository\n",
    "- ✅ Write and run simple tests using `pytest`\n",
    "\n"
   ]
  },
  {
   "cell_type": "code",
   "execution_count": null,
   "id": "c3347c83",
   "metadata": {
    "colab": {
     "base_uri": "https://localhost:8080/"
    },
    "id": "c3347c83",
    "outputId": "3be9d206-83b8-4091-c3e5-d09ec83c0c1d"
   },
   "outputs": [
    {
     "name": "stdout",
     "output_type": "stream",
     "text": [
      "Cloning into 'RSE_Juelich'...\n",
      "remote: Enumerating objects: 182, done.\u001b[K\n",
      "remote: Counting objects: 100% (182/182), done.\u001b[K\n",
      "remote: Compressing objects: 100% (133/133), done.\u001b[K\n",
      "remote: Total 182 (delta 74), reused 103 (delta 26), pack-reused 0 (from 0)\u001b[K\n",
      "Receiving objects: 100% (182/182), 91.83 KiB | 5.40 MiB/s, done.\n",
      "Resolving deltas: 100% (74/74), done.\n"
     ]
    }
   ],
   "source": [
    "# 📥 Clone the course repository from GitHub\n",
    "!git clone https://github.com/likeajumprope/RSE_Juelich.git"
   ]
  },
  {
   "cell_type": "code",
   "execution_count": null,
   "id": "Va8vfwoe6kWp",
   "metadata": {
    "id": "Va8vfwoe6kWp"
   },
   "outputs": [],
   "source": [
    "# 🧹 Optional: Remove the repository if you need to start fresh\n",
    "# !rm -rf RSE_Juelich"
   ]
  },
  {
   "cell_type": "code",
   "execution_count": null,
   "id": "c2113d5e",
   "metadata": {
    "colab": {
     "base_uri": "https://localhost:8080/"
    },
    "id": "c2113d5e",
    "outputId": "50fd0e16-a2e7-4b50-a089-566c6c6ab805"
   },
   "outputs": [
    {
     "name": "stdout",
     "output_type": "stream",
     "text": [
      "/content/RSE_Juelich/day3\n"
     ]
    }
   ],
   "source": [
    "# 📂 Navigate into the Day 3 folder (adjust the path if necessary)\n",
    "%cd /content/RSE_Juelich/day3/reproducible-research-project_day3"
   ]
  },
  {
   "cell_type": "code",
   "execution_count": null,
   "id": "adaeed14",
   "metadata": {
    "colab": {
     "base_uri": "https://localhost:8080/"
    },
    "id": "adaeed14",
    "outputId": "4654ac0f-7d65-4847-c012-7972097eedfb"
   },
   "outputs": [
    {
     "name": "stdout",
     "output_type": "stream",
     "text": [
      "Requirement already satisfied: contourpy==1.3.2 in /usr/local/lib/python3.11/dist-packages (from -r requirements.txt (line 1)) (1.3.2)\n",
      "Requirement already satisfied: coverage==7.7.1 in /usr/local/lib/python3.11/dist-packages (from -r requirements.txt (line 2)) (7.7.1)\n",
      "Requirement already satisfied: cycler==0.12.1 in /usr/local/lib/python3.11/dist-packages (from -r requirements.txt (line 3)) (0.12.1)\n",
      "Requirement already satisfied: fonttools==4.57.0 in /usr/local/lib/python3.11/dist-packages (from -r requirements.txt (line 4)) (4.57.0)\n",
      "Requirement already satisfied: iniconfig==2.1.0 in /usr/local/lib/python3.11/dist-packages (from -r requirements.txt (line 5)) (2.1.0)\n",
      "Requirement already satisfied: kiwisolver==1.4.8 in /usr/local/lib/python3.11/dist-packages (from -r requirements.txt (line 6)) (1.4.8)\n",
      "Requirement already satisfied: matplotlib==3.10.1 in /usr/local/lib/python3.11/dist-packages (from -r requirements.txt (line 7)) (3.10.1)\n",
      "Requirement already satisfied: numpy==2.2.4 in /usr/local/lib/python3.11/dist-packages (from -r requirements.txt (line 8)) (2.2.4)\n",
      "Requirement already satisfied: packaging==24.2 in /usr/local/lib/python3.11/dist-packages (from -r requirements.txt (line 9)) (24.2)\n",
      "Requirement already satisfied: pandas==2.2.3 in /usr/local/lib/python3.11/dist-packages (from -r requirements.txt (line 10)) (2.2.3)\n",
      "Requirement already satisfied: pillow==11.2.1 in /usr/local/lib/python3.11/dist-packages (from -r requirements.txt (line 11)) (11.2.1)\n",
      "Requirement already satisfied: pluggy==1.5.0 in /usr/local/lib/python3.11/dist-packages (from -r requirements.txt (line 12)) (1.5.0)\n",
      "Requirement already satisfied: pyparsing==3.2.3 in /usr/local/lib/python3.11/dist-packages (from -r requirements.txt (line 13)) (3.2.3)\n",
      "Requirement already satisfied: pytest==8.3.5 in /usr/local/lib/python3.11/dist-packages (from -r requirements.txt (line 14)) (8.3.5)\n",
      "Requirement already satisfied: pytest-cov==6.0.0 in /usr/local/lib/python3.11/dist-packages (from -r requirements.txt (line 15)) (6.0.0)\n",
      "Requirement already satisfied: python-dateutil==2.9.0.post0 in /usr/local/lib/python3.11/dist-packages (from -r requirements.txt (line 16)) (2.9.0.post0)\n",
      "Requirement already satisfied: pytz==2025.2 in /usr/local/lib/python3.11/dist-packages (from -r requirements.txt (line 17)) (2025.2)\n",
      "Requirement already satisfied: setuptools==75.8.0 in /usr/local/lib/python3.11/dist-packages (from -r requirements.txt (line 18)) (75.8.0)\n",
      "Requirement already satisfied: six==1.17.0 in /usr/local/lib/python3.11/dist-packages (from -r requirements.txt (line 19)) (1.17.0)\n",
      "Requirement already satisfied: tzdata==2025.2 in /usr/local/lib/python3.11/dist-packages (from -r requirements.txt (line 20)) (2025.2)\n",
      "Requirement already satisfied: wheel==0.45.1 in /usr/local/lib/python3.11/dist-packages (from -r requirements.txt (line 21)) (0.45.1)\n",
      "Requirement already satisfied: pytest in /usr/local/lib/python3.11/dist-packages (8.3.5)\n",
      "Requirement already satisfied: iniconfig in /usr/local/lib/python3.11/dist-packages (from pytest) (2.1.0)\n",
      "Requirement already satisfied: packaging in /usr/local/lib/python3.11/dist-packages (from pytest) (24.2)\n",
      "Requirement already satisfied: pluggy<2,>=1.5 in /usr/local/lib/python3.11/dist-packages (from pytest) (1.5.0)\n"
     ]
    }
   ],
   "source": [
    "# 📦 Install required packages\n",
    "!pip install -r requirements.txt"
   ]
  },
  {
   "cell_type": "code",
   "execution_count": null,
   "id": "6126a11a",
   "metadata": {},
   "outputs": [],
   "source": [
    "#Let's install the packages\n",
    "import os\n",
    "import pandas as pd"
   ]
  },
  {
   "cell_type": "markdown",
   "id": "6eb395c2",
   "metadata": {
    "id": "6eb395c2"
   },
   "source": [
    "## Check the length of the data frame\n",
    "\n",
    "### Write inline assert statements\n",
    "\n",
    "We start with writing simple `assert` statements. These statements can be inserted directly into the code.\n",
    "\n",
    "First, use the `assert` statement to assert that the number of rows in the data frame is 909 (which is the number of rows). You will have to load the data frame first.\n",
    "\n",
    "Example:\n",
    "\n",
    "`load file` # this is mock code\n",
    "\n",
    "`assert number_of_rows == number_of_rows`"
   ]
  },
  {
   "cell_type": "code",
   "execution_count": null,
   "id": "5cb0d861",
   "metadata": {},
   "outputs": [],
   "source": [
    "# TODO: Add your code here"
   ]
  },
  {
   "cell_type": "markdown",
   "id": "315b0ef3",
   "metadata": {
    "id": "315b0ef3"
   },
   "source": [
    "### Wrap the assert statement into a function"
   ]
  },
  {
   "cell_type": "code",
   "execution_count": null,
   "id": "fdc2bb15",
   "metadata": {
    "id": "fdc2bb15"
   },
   "outputs": [],
   "source": [
    "# TODO\n",
    "# Now  wrap the assert statement into a function that takes a DataFrame as input and checks the number of rows.The path to the CSV file is passed as an argument. \n",
    "# def check_csv_rows(file_path):"
   ]
  },
  {
   "cell_type": "code",
   "execution_count": null,
   "id": "21129cbb",
   "metadata": {},
   "outputs": [],
   "source": [
    "#TODO: Run the function on the data\n",
    "# check_csv_rows(file_path)"
   ]
  },
  {
   "cell_type": "markdown",
   "id": "a5b45150",
   "metadata": {},
   "source": [
    "### Check that the data frame has no Nans\n",
    "\n",
    "#### Assert statement\n",
    "Start with an assert statement first again: check that the data frame has no NaNs. For example:\n",
    "`assert file.isna().sum().sum() == 0`"
   ]
  },
  {
   "cell_type": "code",
   "execution_count": null,
   "id": "6d2f2bf5",
   "metadata": {
    "colab": {
     "base_uri": "https://localhost:8080/"
    },
    "id": "6d2f2bf5",
    "outputId": "25c81662-4b99-43f6-9eaa-b6ccf7d2e79c"
   },
   "outputs": [
    {
     "data": {
      "text/plain": [
       "909"
      ]
     },
     "execution_count": 10,
     "metadata": {},
     "output_type": "execute_result"
    }
   ],
   "source": [
    "#TODO : Write an assert statement (in line) to test that the file clean.csv has non Nan values. You will have to load the file first.\n",
    "# TODO: Load the CSV file"
   ]
  },
  {
   "cell_type": "markdown",
   "id": "be063a8d",
   "metadata": {
    "id": "be063a8d"
   },
   "source": [
    "#### Test function\n",
    "Again, wrap your assert statement into a small test function. The function should receive the path to the data as input argument"
   ]
  },
  {
   "cell_type": "code",
   "execution_count": null,
   "id": "c53f86a6",
   "metadata": {
    "id": "c53f86a6"
   },
   "outputs": [],
   "source": [
    "# TODO Write small function including assert statement that can test that a data frame has no NaN values.\n",
    "# The function should take a DataFrame as input and check for NaN values.  \n",
    "# def check_no_nan(df):\n",
    " \n"
   ]
  },
  {
   "cell_type": "code",
   "execution_count": null,
   "id": "21360aa7",
   "metadata": {},
   "outputs": [],
   "source": [
    "# TODO: Run your function on the data.\n",
    "# check_no_nan(df):"
   ]
  },
  {
   "cell_type": "markdown",
   "id": "8f5a8155",
   "metadata": {
    "id": "8f5a8155"
   },
   "source": [
    "## Outsourcing your tests to a test folder\n",
    "\n",
    "Create a folder names `tests.`\n",
    "Create a two files, one `non_nans_test.py`, and one `rows_test.oy` and add the two test functions, respectively. Hard code the loading of the data into the test functions (usually, you would write a fixture for that).\n",
    "\n",
    "You might have to import the `pytest`  and the pandas library at the beginning of the test file: `import pytest`, `import pandas as pd`.\n",
    "\n",
    "\n",
    "In the next step, you want to run the tests from the root of the folder using the the command `pytest`.\n",
    "\n",
    "Note:\n",
    "Make sure the file starts with test_*.py or *_test.py, so that `pytest` can recognize them."
   ]
  },
  {
   "cell_type": "code",
   "execution_count": null,
   "id": "9eaa5454",
   "metadata": {
    "colab": {
     "base_uri": "https://localhost:8080/"
    },
    "id": "9eaa5454",
    "outputId": "18a4644a-6626-4570-ef1c-1c7ae4a6f49a"
   },
   "outputs": [
    {
     "name": "stdout",
     "output_type": "stream",
     "text": [
      "/content/RSE_Juelich/day3/reproducible-research-project/data/clean\n",
      "\u001b[32m.\u001b[0m\u001b[32m.\u001b[0m\u001b[32m                                                                       [100%]\u001b[0m\n",
      "\u001b[32m\u001b[32m\u001b[1m2 passed\u001b[0m\u001b[32m in 0.03s\u001b[0m\u001b[0m\n"
     ]
    }
   ],
   "source": [
    "#Run the tests\n",
    "!pwd\n",
    "os.chdir('/content/RSE_Juelich/day3/reproducible-research-project_day_3')\n",
    "!pytest --disable-warnings -q"
   ]
  },
  {
   "cell_type": "markdown",
   "id": "mC2uidnP_6iZ",
   "metadata": {
    "id": "mC2uidnP_6iZ"
   },
   "source": [
    "## Automate your tests using makefiles\n",
    "\n",
    "Create a make file that automates running your tests.\n",
    "\n",
    "1. Create a file `MAKEFILE` in the root of the reproducible-research-project folder (makefiles have no extension).\n",
    "\n",
    "2. Copy the pytest command in there, read up on the structure of makefiles if you want to be able to execute your tests separately."
   ]
  },
  {
   "cell_type": "code",
   "execution_count": null,
   "id": "wF-EWDuYDM3o",
   "metadata": {
    "colab": {
     "base_uri": "https://localhost:8080/"
    },
    "id": "wF-EWDuYDM3o",
    "outputId": "5901520e-375e-40a0-b1e3-991a8c26d736"
   },
   "outputs": [
    {
     "name": "stdout",
     "output_type": "stream",
     "text": [
      "/content/RSE_Juelich/day3/reproducible-research-project\n"
     ]
    }
   ],
   "source": [
    "# Make sure to check the current working directory\n",
    "!pwd"
   ]
  },
  {
   "cell_type": "code",
   "execution_count": null,
   "id": "gtTd5nPlAChB",
   "metadata": {
    "colab": {
     "base_uri": "https://localhost:8080/"
    },
    "id": "gtTd5nPlAChB",
    "outputId": "fb12b4d6-d842-478a-e222-fb0545ebdecb"
   },
   "outputs": [
    {
     "name": "stdout",
     "output_type": "stream",
     "text": [
      "pytest --maxfail=1 --disable-warnings -q\n",
      "\u001b[32m.\u001b[0m\u001b[32m.\u001b[0m\u001b[32m                                                                       [100%]\u001b[0m\n",
      "\u001b[32m\u001b[32m\u001b[1m2 passed\u001b[0m\u001b[32m in 0.02s\u001b[0m\u001b[0m\n"
     ]
    }
   ],
   "source": [
    "# Run the test from the make file\n",
    "!make test"
   ]
  },
  {
   "cell_type": "markdown",
   "id": "5BLMRFcjHSUZ",
   "metadata": {
    "id": "5BLMRFcjHSUZ"
   },
   "source": [
    "Export your environment variables"
   ]
  },
  {
   "cell_type": "code",
   "execution_count": null,
   "id": "7863fb67",
   "metadata": {
    "id": "7863fb67"
   },
   "outputs": [],
   "source": [
    "!pip freeze > requirements.txt"
   ]
  },
  {
   "cell_type": "markdown",
   "id": "1d068ea6",
   "metadata": {},
   "source": [
    "# Test cycle (Optional)\n",
    "\n",
    "1. Write a small function that return the integter 5.\n",
    "2. Create s script my_return.py that contains this function. Place the function in the `src` folder.\n",
    "3. Import the function. Write a test that calls the function and asserts that the return of the function is 5 when you call it (in the notebook cell).\n",
    "4. Place the test into a file in the `test` folder. Import the function into the test file. Run the test."
   ]
  }
 ],
 "metadata": {
  "colab": {
   "provenance": []
  },
  "kernelspec": {
   "display_name": "RSE_course",
   "language": "python",
   "name": "python3"
  },
  "language_info": {
   "codemirror_mode": {
    "name": "ipython",
    "version": 3
   },
   "file_extension": ".py",
   "mimetype": "text/x-python",
   "name": "python",
   "nbconvert_exporter": "python",
   "pygments_lexer": "ipython3",
   "version": "3.13.2"
  }
 },
 "nbformat": 4,
 "nbformat_minor": 5
}
